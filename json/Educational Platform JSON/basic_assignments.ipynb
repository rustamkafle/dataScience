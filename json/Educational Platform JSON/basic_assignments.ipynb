{
 "cells": [
  {
   "cell_type": "code",
   "execution_count": 1,
   "id": "c7f372b3-af46-4679-8157-aee58fb0387c",
   "metadata": {},
   "outputs": [],
   "source": [
    "import json\n",
    "def load_data(filename):\n",
    "    with open(filename, \"r\") as file:\n",
    "        return json.load(file)"
   ]
  },
  {
   "cell_type": "code",
   "execution_count": 2,
   "id": "2c9c59f6-06ef-4ff9-b86a-9985d92ddd18",
   "metadata": {},
   "outputs": [],
   "source": [
    "# Find how many students are enrolled in each course.\n",
    "def num_of_stu_enrolled_in_each_course(data):\n",
    "    courseid_as_key_name_as_value = {}\n",
    "    for course in data['courses']:\n",
    "        courseid_as_key_name_as_value[course['id']] = course['name']\n",
    "\n",
    "    print(courseid_as_key_name_as_value)\n",
    "    \n",
    "    courseid_as_key_count_as_value = {}\n",
    "    \n",
    "    print(courseid_as_key_count_as_value)\n",
    "    \n",
    "    for student in data['students']:\n",
    "        for course in student['enrolled_courses']:\n",
    "            courseid_as_key_count_as_value[course] = courseid_as_key_count_as_value.get(course, 0) + 1;\n",
    "            \n",
    "    print(courseid_as_key_count_as_value)\n",
    "    print(\"Course Name\\t\\tNumber of Students Enrolled\")\n",
    "    for key, value in courseid_as_key_count_as_value.items():\n",
    "        print(f\"{courseid_as_key_name_as_value[key]:<30}{value:>20}\")\n",
    "    "
   ]
  },
  {
   "cell_type": "code",
   "execution_count": 3,
   "id": "5f57c202-4ee7-4279-848d-171a5d19366c",
   "metadata": {},
   "outputs": [
    {
     "name": "stdout",
     "output_type": "stream",
     "text": [
      "{101: 'Intro to Programming', 102: 'Data Structures', 103: 'Algorithms', 104: 'Database Systems', 105: 'Computer Networks'}\n",
      "{}\n",
      "{101: 3, 102: 3, 103: 3, 104: 2, 105: 3}\n",
      "Course Name\t\tNumber of Students Enrolled\n",
      "Intro to Programming                             3\n",
      "Data Structures                                  3\n",
      "Algorithms                                       3\n",
      "Database Systems                                 2\n",
      "Computer Networks                                3\n"
     ]
    }
   ],
   "source": [
    "data = load_data('educational_platform.json')\n",
    "num_of_stu_enrolled_in_each_course(data)"
   ]
  },
  {
   "cell_type": "code",
   "execution_count": 4,
   "id": "46f78473-1caa-4bb0-abc6-e6a365efc54c",
   "metadata": {},
   "outputs": [],
   "source": [
    "# Get the list of friends for a given student name.\n",
    "def list_of_friends(student_id, data):\n",
    "    student_id_as_key_friendid_as_value = {}\n",
    "    for student in data['students']:\n",
    "        student_id_as_key_friendid_as_value[student['id']] = student['friends']\n",
    "    \n",
    "    student_id_as_key_name_as_value = {}\n",
    "    for student in data['students']:\n",
    "        student_id_as_key_name_as_value[student['id']] = student['name']\n",
    "    \n",
    "    direct_friends_of_student_id = student_id_as_key_friendid_as_value[student_id]\n",
    "    print(f\"Friends of ID: {student_id} are:\\n\")\n",
    "    for friend in direct_friends_of_student_id:\n",
    "        print(f\"{student_id_as_key_name_as_value[friend]}\")\n",
    "    "
   ]
  },
  {
   "cell_type": "code",
   "execution_count": 5,
   "id": "f7033b57-0ca4-4284-89d5-64066ff8ce89",
   "metadata": {},
   "outputs": [
    {
     "name": "stdout",
     "output_type": "stream",
     "text": [
      "Friends of ID: 7 are:\n",
      "\n",
      "Frank\n",
      "Hank\n"
     ]
    }
   ],
   "source": [
    "data = load_data('educational_platform.json')\n",
    "#print(data)\n",
    "student_id = 7\n",
    "list_of_friends(student_id, data)"
   ]
  },
  {
   "cell_type": "code",
   "execution_count": 6,
   "id": "b25c43fc-9e6f-4d5c-a192-65ab63eedd59",
   "metadata": {},
   "outputs": [],
   "source": [
    "#Find the names of courses a student is enrolled in, given the student ID.\n",
    "def name_of_courses(student_id, data):\n",
    "    \n",
    "    student_id_as_key_coursecode_as_value = {}\n",
    "    for student in data['students']:\n",
    "        student_id_as_key_coursecode_as_value[student['id']] = set(student['enrolled_courses'])\n",
    "    \n",
    "    course_id_as_key_coursename_as_value = {}\n",
    "    for course in data['courses']:\n",
    "        course_id_as_key_coursename_as_value[course['id']] = course['name']\n",
    "        \n",
    "    course_taken_by_student_id = student_id_as_key_coursecode_as_value[student_id]\n",
    "    \n",
    "    print(f\"Courses Taken by ID: {student_id} are:\\n\")\n",
    "    for coursecode in course_taken_by_student_id:\n",
    "        print(f\"{course_id_as_key_coursename_as_value[coursecode]}\")\n",
    "        "
   ]
  },
  {
   "cell_type": "code",
   "execution_count": 7,
   "id": "62bc7cc5-7dfe-4a75-a7e6-0d08d014d36d",
   "metadata": {},
   "outputs": [
    {
     "name": "stdout",
     "output_type": "stream",
     "text": [
      "Courses Taken by ID: 8 are:\n",
      "\n",
      "Data Structures\n",
      "Algorithms\n"
     ]
    }
   ],
   "source": [
    "datadict = load_data('educational_platform.json')\n",
    "student_id = 8\n",
    "name_of_courses(student_id, datadict)"
   ]
  },
  {
   "cell_type": "code",
   "execution_count": 8,
   "id": "58a3ddb1-45b4-4136-a5a6-ac689dbe27da",
   "metadata": {},
   "outputs": [],
   "source": [
    "# List the names of all students\n",
    "def list_of_students(data):\n",
    "    return [user['name'] for user in data['students']]"
   ]
  },
  {
   "cell_type": "code",
   "execution_count": 9,
   "id": "5cc83fb6-b2af-4c31-af7e-5be16f90fa22",
   "metadata": {},
   "outputs": [
    {
     "data": {
      "text/plain": [
       "['Alice', 'Bob', 'Charlie', 'Daisy', 'Eve', 'Frank', 'Grace', 'Hank']"
      ]
     },
     "execution_count": 9,
     "metadata": {},
     "output_type": "execute_result"
    }
   ],
   "source": [
    "datadict = load_data('educational_platform.json')\n",
    "listing = list_of_students(datadict)\n",
    "listing"
   ]
  }
 ],
 "metadata": {
  "kernelspec": {
   "display_name": "Python 3 (ipykernel)",
   "language": "python",
   "name": "python3"
  },
  "language_info": {
   "codemirror_mode": {
    "name": "ipython",
    "version": 3
   },
   "file_extension": ".py",
   "mimetype": "text/x-python",
   "name": "python",
   "nbconvert_exporter": "python",
   "pygments_lexer": "ipython3",
   "version": "3.12.9"
  }
 },
 "nbformat": 4,
 "nbformat_minor": 5
}
