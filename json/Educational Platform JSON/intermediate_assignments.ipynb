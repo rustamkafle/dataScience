{
 "cells": [
  {
   "cell_type": "code",
   "execution_count": 1,
   "id": "d60f2166-6ccb-4fd2-86f0-06dfa889b7c7",
   "metadata": {},
   "outputs": [],
   "source": [
    "import json\n",
    "def load_data(filename):\n",
    "    with open(filename, \"r\") as file:\n",
    "        return json.load(file)"
   ]
  },
  {
   "cell_type": "code",
   "execution_count": 2,
   "id": "b01a1b54-d844-4cbf-b0b9-4e3c4db5ac5e",
   "metadata": {},
   "outputs": [],
   "source": [
    "# Suggest study buddies: \n",
    "# For a given student, suggest others who are not their friends but are enrolled in the same course(s).\n",
    "def study_buddies(student_id, data):\n",
    "    studentid_as_key_name_as_values = {}\n",
    "    for student in data['students']:\n",
    "        studentid_as_key_name_as_values[student['id']] = student['name']\n",
    "        \n",
    "    studentid_as_key_enrolledcourses_as_values = {}\n",
    "    for student in data['students']:\n",
    "        studentid_as_key_enrolledcourses_as_values[student['id']] = set(student['enrolled_courses'])\n",
    "\n",
    "    studentid_as_key_friends_as_values = {}\n",
    "    for student in data['students']:\n",
    "        studentid_as_key_friends_as_values[student['id']] = student['friends']\n",
    "\n",
    "    print(f\"Suggesting study-Buddies for {studentid_as_key_name_as_values[student_id]}:\")\n",
    "    for other_student, course in studentid_as_key_enrolledcourses_as_values.items():\n",
    "        if other_student != student_id:\n",
    "            if len(studentid_as_key_enrolledcourses_as_values[student_id].intersection(studentid_as_key_enrolledcourses_as_values[other_student])):\n",
    "                if other_student not in studentid_as_key_friends_as_values[student_id]:\n",
    "                    print(f\"{studentid_as_key_name_as_values[other_student]}\")\n",
    "        "
   ]
  },
  {
   "cell_type": "code",
   "execution_count": 3,
   "id": "e737188f-fbfa-47e3-9b83-d8f839dfd15c",
   "metadata": {},
   "outputs": [
    {
     "name": "stdout",
     "output_type": "stream",
     "text": [
      "Suggesting study-Buddies for Frank:\n",
      "Eve\n"
     ]
    }
   ],
   "source": [
    "data = load_data('educational_platform.json')\n",
    "study_buddies(6, data)"
   ]
  },
  {
   "cell_type": "code",
   "execution_count": 4,
   "id": "deb5a93d-e98f-4250-9fea-846ebe7ea51d",
   "metadata": {},
   "outputs": [],
   "source": [
    "# Find the student(s) enrolled in the highest number of courses.\n",
    "def hustlers(data):\n",
    "    highest_number_of_courses_taken = 0\n",
    "    for student in data['students']:\n",
    "        if len(student['enrolled_courses']) > highest_number_of_courses_taken:\n",
    "            highest_number_of_courses_taken = len(student['enrolled_courses'])\n",
    "    print(\"Student(s) enrolled in the highest number of courses are:\")\n",
    "    for student in data['students']:\n",
    "        if len(student['enrolled_courses']) == highest_number_of_courses_taken:\n",
    "            print(student['name'])"
   ]
  },
  {
   "cell_type": "code",
   "execution_count": 5,
   "id": "49a0e62f-e27b-4a3e-a090-3b7f6da8639e",
   "metadata": {},
   "outputs": [
    {
     "name": "stdout",
     "output_type": "stream",
     "text": [
      "Student(s) enrolled in the highest number of courses are:\n",
      "Alice\n",
      "Bob\n",
      "Daisy\n",
      "Eve\n",
      "Grace\n",
      "Hank\n"
     ]
    }
   ],
   "source": [
    "data = load_data('educational_platform.json')\n",
    "hustlers(data)"
   ]
  },
  {
   "cell_type": "code",
   "execution_count": 6,
   "id": "dfe24a89-ed8f-431e-9def-1d74bf31c588",
   "metadata": {},
   "outputs": [],
   "source": [
    "# List all instructors whose courses have more than 2 students.\n",
    "def instructors_list(data):\n",
    "    courseid_as_key_count_as_value = {}\n",
    "    for student in data['students']:\n",
    "        for course in student['enrolled_courses']:\n",
    "            courseid_as_key_count_as_value[course] = courseid_as_key_count_as_value.get(course,0)+1\n",
    "\n",
    "    courseid_as_key_instructor_as_value = {}\n",
    "    for course in data['courses']:\n",
    "        courseid_as_key_instructor_as_value[course['id']] = course['instructor']\n",
    "\n",
    "    print(\"List of all instructors whose courses have more than 2 students\\n\")\n",
    "    for course, count in courseid_as_key_count_as_value.items():\n",
    "        if count>2:\n",
    "            print(f\"{courseid_as_key_instructor_as_value[course]}\")\n",
    "            "
   ]
  },
  {
   "cell_type": "code",
   "execution_count": 7,
   "id": "9397a4b3-a206-41b3-b3d0-0bdf1b3e111d",
   "metadata": {},
   "outputs": [
    {
     "name": "stdout",
     "output_type": "stream",
     "text": [
      "List of all instructors whose courses have more than 2 students\n",
      "\n",
      "Dr. Smith\n",
      "Prof. Jane\n",
      "Dr. Lee\n",
      "Dr. Alan\n"
     ]
    }
   ],
   "source": [
    "data = load_data('educational_platform.json')\n",
    "instructors_list(data)"
   ]
  },
  {
   "cell_type": "code",
   "execution_count": 8,
   "id": "f9cf6aed-c0f9-4959-a49b-4d6025b23bf6",
   "metadata": {},
   "outputs": [],
   "source": [
    "# Find students who share at least one course with a given student_id (coursemates).\n",
    "def coursemates(student_id, data):\n",
    "    \n",
    "    studentid_as_key_name_as_value = {}\n",
    "    for student in data['students']:\n",
    "        studentid_as_key_name_as_value[student['id']] = student['name']\n",
    "\n",
    "    studentid_as_key_enrolledcourses_as_value = {}\n",
    "    for student in data['students']:\n",
    "        studentid_as_key_enrolledcourses_as_value[student['id']] = set(student['enrolled_courses'])\n",
    "\n",
    "    print(f\"CourseMates of {studentid_as_key_name_as_value[student_id]} are\\n\")\n",
    "    for other_student, enrolled in studentid_as_key_enrolledcourses_as_value.items():\n",
    "        if other_student != student_id:\n",
    "            if(len(studentid_as_key_enrolledcourses_as_value[student_id].intersection(enrolled))):\n",
    "                print(f\"{studentid_as_key_name_as_value[other_student]}\")\n",
    "    \n",
    "        \n",
    "    "
   ]
  },
  {
   "cell_type": "code",
   "execution_count": 9,
   "id": "dd5fcdbe-4af8-40ea-95a7-77481220262b",
   "metadata": {},
   "outputs": [
    {
     "name": "stdout",
     "output_type": "stream",
     "text": [
      "CourseMates of Charlie are\n",
      "\n",
      "Alice\n",
      "Eve\n"
     ]
    }
   ],
   "source": [
    "data = load_data('educational_platform.json')\n",
    "coursemates(3, data)"
   ]
  }
 ],
 "metadata": {
  "kernelspec": {
   "display_name": "Python 3 (ipykernel)",
   "language": "python",
   "name": "python3"
  },
  "language_info": {
   "codemirror_mode": {
    "name": "ipython",
    "version": 3
   },
   "file_extension": ".py",
   "mimetype": "text/x-python",
   "name": "python",
   "nbconvert_exporter": "python",
   "pygments_lexer": "ipython3",
   "version": "3.12.9"
  }
 },
 "nbformat": 4,
 "nbformat_minor": 5
}
