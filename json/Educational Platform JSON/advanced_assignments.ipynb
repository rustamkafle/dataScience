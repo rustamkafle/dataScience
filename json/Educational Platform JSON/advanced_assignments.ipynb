{
 "cells": [
  {
   "cell_type": "code",
   "execution_count": 1,
   "id": "30d581dc-deb7-4689-8a5a-6db2793236d1",
   "metadata": {},
   "outputs": [],
   "source": [
    "import json\n",
    "def load_data(filename):\n",
    "    with open(filename, \"r\") as file:\n",
    "        return json.load(file)"
   ]
  },
  {
   "cell_type": "code",
   "execution_count": 2,
   "id": "7029c225-8a12-4474-bb43-81467a4ad2d3",
   "metadata": {},
   "outputs": [],
   "source": [
    "# Recommend courses to a student based on the following rules: Courses taken by their friends but not by them.\n",
    "def recommend_course(student_id, data):\n",
    "\n",
    "    studentid_as_key_courses_as_value = {}\n",
    "    for student in data['students']:\n",
    "        studentid_as_key_courses_as_value[student['id']] = student['enrolled_courses']\n",
    "\n",
    "    studentid_as_key_friends_as_value = {}\n",
    "    for student in data['students']:\n",
    "        studentid_as_key_friends_as_value[student['id']] = student['friends']\n",
    "\n",
    "    course_enrolled_of_student_id = studentid_as_key_courses_as_value[student_id]\n",
    "\n",
    "    course_recommendation = {}\n",
    "    for friend in studentid_as_key_friends_as_value[student_id]:\n",
    "        for course in studentid_as_key_courses_as_value[friend]:\n",
    "            if course not in course_enrolled_of_student_id:\n",
    "                course_recommendation[course] = course_recommendation.get(course,0)+1\n",
    "\n",
    "    #print(course_recommendation)\n",
    "    sorted_recommendation = sorted(course_recommendation, key=lambda x:course_recommendation[x], reverse=True)\n",
    "    print(sorted_recommendation)"
   ]
  },
  {
   "cell_type": "code",
   "execution_count": 3,
   "id": "15d09f83-3fba-4201-b095-e9a2ec9a3973",
   "metadata": {},
   "outputs": [
    {
     "name": "stdout",
     "output_type": "stream",
     "text": [
      "[102, 103]\n"
     ]
    }
   ],
   "source": [
    "data = load_data('educational_platform.json')\n",
    "recommend_course(7, data)"
   ]
  },
  {
   "cell_type": "code",
   "execution_count": 4,
   "id": "7ededc0f-c7de-495d-9914-9219a06843f1",
   "metadata": {},
   "outputs": [],
   "source": [
    "\"\"\"Student-Course Friend Analysis: \n",
    "For each student, count the number of courses they are enrolled in where at least one of their friends is also enrolled.\n",
    "Return this count for all students. \"\"\"\n",
    "def analysis_student_course_friend(data):\n",
    "    \n",
    "    studentid_as_key_courses_as_value = {}\n",
    "    for student in data['students']:\n",
    "        studentid_as_key_courses_as_value[student['id']] = student['enrolled_courses']\n",
    "\n",
    "    studentid_as_key_friends_as_value = {}\n",
    "    for student in data['students']:\n",
    "        studentid_as_key_friends_as_value[student['id']] = student['friends']\n",
    "\n",
    "    len_of_intersection_of_courses_of_student_and_his_frnds = {}\n",
    "    for key,_ in studentid_as_key_friends_as_value.items():\n",
    "        len_of_intersection_of_courses_of_student_and_his_frnds[key] = len_of_intersection_of_courses_of_student_and_his_frnds.get(key,0)\n",
    "        for course in studentid_as_key_courses_as_value[key]:\n",
    "            for friend in studentid_as_key_friends_as_value[key]:\n",
    "                if course in studentid_as_key_courses_as_value[friend]:\n",
    "                    len_of_intersection_of_courses_of_student_and_his_frnds[key] +=1\n",
    "                    break\n",
    "\n",
    "                    \n",
    "    print(len_of_intersection_of_courses_of_student_and_his_frnds)                    "
   ]
  },
  {
   "cell_type": "code",
   "execution_count": 5,
   "id": "7b388c15-5f60-46e7-926e-9bfd66c687cc",
   "metadata": {},
   "outputs": [
    {
     "name": "stdout",
     "output_type": "stream",
     "text": [
      "{1: 2, 2: 2, 3: 1, 4: 1, 5: 1, 6: 1, 7: 1, 8: 0}\n"
     ]
    }
   ],
   "source": [
    "data = load_data('educational_platform.json')\n",
    "analysis_student_course_friend(data)"
   ]
  },
  {
   "cell_type": "code",
   "execution_count": 6,
   "id": "c4f4d833-b4d5-46d0-a478-1baff9b18bb1",
   "metadata": {},
   "outputs": [],
   "source": [
    "# Build a \"You may know\" feature: \n",
    "# For a given student, suggest others who are 2nd-degree connections (friends of friends) but not already friends.\n",
    "def you_may_know(student_id, data):\n",
    "    studentid_as_key_friend_as_value = {}\n",
    "    for student in data['students']:\n",
    "        studentid_as_key_friend_as_value[student['id']] = student['friends']\n",
    "        \n",
    "    if student_id not in studentid_as_key_friend_as_value:\n",
    "        print(\"Student not found\")\n",
    "        return\n",
    "\n",
    "    direct_friends_of_student_id = studentid_as_key_friend_as_value[student_id]\n",
    "    suggestion = {}\n",
    "    for friend in studentid_as_key_friend_as_value[student_id]:\n",
    "        for mutual in studentid_as_key_friend_as_value[friend]:\n",
    "            if mutual not in direct_friends_of_student_id and mutual != student_id:\n",
    "                suggestion[mutual] = suggestion.get(mutual, 0) + 1\n",
    "\n",
    "    list_of_suggestion = list(sorted(suggestion, key=lambda x:suggestion[x]))\n",
    "\n",
    "    studentid_as_key_name_as_value = {}\n",
    "    for student in data['students']:\n",
    "        studentid_as_key_name_as_value[student['id']] = student['name']\n",
    "        \n",
    "    print(f\"{studentid_as_key_name_as_value[student_id]} May Know:\")\n",
    "    for friend in list_of_suggestion:\n",
    "        print(f\"{studentid_as_key_name_as_value[friend]}\")\n",
    "            "
   ]
  },
  {
   "cell_type": "code",
   "execution_count": 7,
   "id": "a2f5cee8-e852-4108-9109-8ffab1b394c1",
   "metadata": {},
   "outputs": [
    {
     "name": "stdout",
     "output_type": "stream",
     "text": [
      "Charlie May Know:\n",
      "Bob\n"
     ]
    }
   ],
   "source": [
    "data = load_data('educational_platform.json')\n",
    "you_may_know(3, data)"
   ]
  }
 ],
 "metadata": {
  "kernelspec": {
   "display_name": "Python 3 (ipykernel)",
   "language": "python",
   "name": "python3"
  },
  "language_info": {
   "codemirror_mode": {
    "name": "ipython",
    "version": 3
   },
   "file_extension": ".py",
   "mimetype": "text/x-python",
   "name": "python",
   "nbconvert_exporter": "python",
   "pygments_lexer": "ipython3",
   "version": "3.12.9"
  }
 },
 "nbformat": 4,
 "nbformat_minor": 5
}
