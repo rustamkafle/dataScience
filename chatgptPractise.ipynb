{
 "cells": [
  {
   "cell_type": "code",
   "execution_count": 1,
   "id": "def4acbd-1a3e-4aec-a865-3643b083c69f",
   "metadata": {},
   "outputs": [],
   "source": [
    "import json\n",
    "with open(\"libraryData.json\", \"r\") as file:\n",
    "    data = json.load(file)"
   ]
  },
  {
   "cell_type": "code",
   "execution_count": 2,
   "id": "d5c36584-6805-4288-a4d7-2d24088e2cc5",
   "metadata": {},
   "outputs": [],
   "source": [
    "# Remove any member or book with missing values (like \"\" or None)\n",
    "data['members'] = [user for user in data['members'] if user['name']]"
   ]
  },
  {
   "cell_type": "code",
   "execution_count": 7,
   "id": "9399a283-821b-4e6a-959a-819b21e44dbb",
   "metadata": {},
   "outputs": [
    {
     "name": "stdout",
     "output_type": "stream",
     "text": [
      "{(3, 104, '2023-04-03'), (1, 101, '2023-04-01'), (1, 105, '2023-04-05'), (3, 101, '2023-04-06'), (4, 103, '2023-04-07')}\n"
     ]
    },
    {
     "data": {
      "text/plain": [
       "[{'member_id': 3, 'book_id': 104, 'date': '2023-04-03'},\n",
       " {'member_id': 1, 'book_id': 101, 'date': '2023-04-01'},\n",
       " {'member_id': 1, 'book_id': 105, 'date': '2023-04-05'},\n",
       " {'member_id': 3, 'book_id': 101, 'date': '2023-04-06'},\n",
       " {'member_id': 4, 'book_id': 103, 'date': '2023-04-07'}]"
      ]
     },
     "execution_count": 7,
     "metadata": {},
     "output_type": "execute_result"
    }
   ],
   "source": [
    "# Remove duplicate borrow records\n",
    "seen = set()\n",
    "for record in data['borrow_records']:\n",
    "    hello = tuple( record.values() )\n",
    "    seen.add(hello)\n",
    "print(seen)\n",
    "\n",
    "tempList = []\n",
    "for member_id, book_id, date in seen:\n",
    "    temporary = {}\n",
    "    temporary['member_id'] = member_id\n",
    "    temporary['book_id'] = book_id\n",
    "    temporary['date'] = date\n",
    "    tempList.append(temporary)\n",
    "    \n",
    "data['borrow_records'] = tempList\n",
    "data['borrow_records'] "
   ]
  },
  {
   "cell_type": "code",
   "execution_count": 4,
   "id": "b486bc47-1b0e-4036-b469-211511fe96e5",
   "metadata": {},
   "outputs": [
    {
     "name": "stdout",
     "output_type": "stream",
     "text": [
      "Max borrow record of member_id 1\n"
     ]
    }
   ],
   "source": [
    "count={1:0, 2:0, 3:0, 4:0}\n",
    "#type(data['borrow_records'][0]['member_id'])\n",
    "i=0\n",
    "for member_id, book_id, date in seen:\n",
    "    count[data['borrow_records'][i]['member_id']] += 1\n",
    "    i=i+1\n",
    "\n",
    "currentMax = count[1]\n",
    "currentKey=1\n",
    "for key, value in count.items():\n",
    "    if value > currentMax:\n",
    "        currentMax = value\n",
    "        currentKey = key\n",
    "print(f\"Max borrow record of member_id {currentKey}\")"
   ]
  },
  {
   "cell_type": "code",
   "execution_count": 5,
   "id": "32d4b32b-3ba3-4bdb-b907-10ddee84a3c6",
   "metadata": {},
   "outputs": [],
   "source": [
    "titleList = []\n",
    "for book in data['books']:\n",
    "    if book['genre'] == 'Science Fiction':\n",
    "        titleList.append(book)\n"
   ]
  },
  {
   "cell_type": "code",
   "execution_count": 6,
   "id": "2082477b-41ef-4f14-b7f1-69b95a42554b",
   "metadata": {},
   "outputs": [],
   "source": [
    "data['members'] = [member for member in data['members'] if member['name'] != \"\"]\n",
    "data['books'] = [book for book in data['books'] if book['title'] != \"\"]\n"
   ]
  }
 ],
 "metadata": {
  "kernelspec": {
   "display_name": "Python 3 (ipykernel)",
   "language": "python",
   "name": "python3"
  },
  "language_info": {
   "codemirror_mode": {
    "name": "ipython",
    "version": 3
   },
   "file_extension": ".py",
   "mimetype": "text/x-python",
   "name": "python",
   "nbconvert_exporter": "python",
   "pygments_lexer": "ipython3",
   "version": "3.12.9"
  }
 },
 "nbformat": 4,
 "nbformat_minor": 5
}
