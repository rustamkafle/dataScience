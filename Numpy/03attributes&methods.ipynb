{
 "cells": [
  {
   "cell_type": "code",
   "execution_count": 1,
   "id": "3a5e27bb-8b8a-409b-b450-ddfbaed5080e",
   "metadata": {},
   "outputs": [],
   "source": [
    "import numpy as np"
   ]
  },
  {
   "cell_type": "markdown",
   "id": "721ea7a3-3cb9-48ce-82b9-a9ba2e64ca9c",
   "metadata": {},
   "source": [
    "# .shape"
   ]
  },
  {
   "cell_type": "code",
   "execution_count": 2,
   "id": "bdbc5e05-182a-4ef1-915d-8c5a4504dd7e",
   "metadata": {},
   "outputs": [
    {
     "name": "stdout",
     "output_type": "stream",
     "text": [
      "[10 15 20 25 30 35 40 45]\n"
     ]
    },
    {
     "data": {
      "text/plain": [
       "(8,)"
      ]
     },
     "execution_count": 2,
     "metadata": {},
     "output_type": "execute_result"
    }
   ],
   "source": [
    "arr1 = np.arange(10, 50, 5)\n",
    "print(arr1)\n",
    "arr1.shape"
   ]
  },
  {
   "cell_type": "code",
   "execution_count": 3,
   "id": "7eed5f85-66aa-4725-83c7-b41721735129",
   "metadata": {},
   "outputs": [
    {
     "data": {
      "text/plain": [
       "(5,)"
      ]
     },
     "execution_count": 3,
     "metadata": {},
     "output_type": "execute_result"
    }
   ],
   "source": [
    "arr2 = np.linspace(10, 50, 5)\n",
    "arr2.shape"
   ]
  },
  {
   "cell_type": "code",
   "execution_count": 4,
   "id": "d3328231-5752-49da-915c-0896ed8ede30",
   "metadata": {},
   "outputs": [
    {
     "data": {
      "text/plain": [
       "(2, 3)"
      ]
     },
     "execution_count": 4,
     "metadata": {},
     "output_type": "execute_result"
    }
   ],
   "source": [
    "arr3 = np.full((2,3),5)\n",
    "arr3.shape"
   ]
  },
  {
   "cell_type": "markdown",
   "id": "d7f96166-b73d-4f2d-bcc9-41a274adb9ad",
   "metadata": {},
   "source": [
    "# .size"
   ]
  },
  {
   "cell_type": "code",
   "execution_count": 5,
   "id": "e65b0fd1-e272-40ae-9359-cdfb323e2aae",
   "metadata": {},
   "outputs": [
    {
     "name": "stdout",
     "output_type": "stream",
     "text": [
      "[10 15 20 25 30 35 40 45]\n"
     ]
    },
    {
     "data": {
      "text/plain": [
       "8"
      ]
     },
     "execution_count": 5,
     "metadata": {},
     "output_type": "execute_result"
    }
   ],
   "source": [
    "arr1 = np.arange(10, 50, 5)\n",
    "print(arr1)\n",
    "arr1.size"
   ]
  },
  {
   "cell_type": "code",
   "execution_count": 6,
   "id": "f1870988-f6cb-4be2-a0d2-f2a9724f433b",
   "metadata": {},
   "outputs": [
    {
     "data": {
      "text/plain": [
       "25"
      ]
     },
     "execution_count": 6,
     "metadata": {},
     "output_type": "execute_result"
    }
   ],
   "source": [
    "arr2 = np.eye(5)\n",
    "arr2.size"
   ]
  },
  {
   "cell_type": "code",
   "execution_count": 7,
   "id": "ed5d0c1a-0cbb-44e6-9cfd-b04166a10047",
   "metadata": {},
   "outputs": [
    {
     "data": {
      "text/plain": [
       "6"
      ]
     },
     "execution_count": 7,
     "metadata": {},
     "output_type": "execute_result"
    }
   ],
   "source": [
    "arr3 = np.full((2,3),5)\n",
    "arr3.size"
   ]
  },
  {
   "cell_type": "markdown",
   "id": "23801196-346b-43ae-9391-c508ebf61474",
   "metadata": {},
   "source": [
    "# .ndim"
   ]
  },
  {
   "cell_type": "code",
   "execution_count": 8,
   "id": "fd0d3045-c899-44e3-a4b2-c94a85f3169e",
   "metadata": {},
   "outputs": [
    {
     "name": "stdout",
     "output_type": "stream",
     "text": [
      "[10 15 20 25 30 35 40 45]\n"
     ]
    },
    {
     "data": {
      "text/plain": [
       "1"
      ]
     },
     "execution_count": 8,
     "metadata": {},
     "output_type": "execute_result"
    }
   ],
   "source": [
    "arr1 = np.arange(10, 50, 5)\n",
    "print(arr1)\n",
    "arr1.ndim"
   ]
  },
  {
   "cell_type": "code",
   "execution_count": 9,
   "id": "0fe9f2be-1873-436e-8bea-24fed6838066",
   "metadata": {},
   "outputs": [
    {
     "data": {
      "text/plain": [
       "2"
      ]
     },
     "execution_count": 9,
     "metadata": {},
     "output_type": "execute_result"
    }
   ],
   "source": [
    "arr2 = np.eye(5)\n",
    "arr2.ndim"
   ]
  },
  {
   "cell_type": "code",
   "execution_count": 10,
   "id": "7417cbb2-914d-4743-9bbd-7d19ce4c7d08",
   "metadata": {},
   "outputs": [
    {
     "data": {
      "text/plain": [
       "3"
      ]
     },
     "execution_count": 10,
     "metadata": {},
     "output_type": "execute_result"
    }
   ],
   "source": [
    "arr3 = np.array([[[1,2,3,4]],[[5,6,7,8]]])\n",
    "arr3.ndim"
   ]
  },
  {
   "cell_type": "markdown",
   "id": "e0e1ad4f-67fd-4ed9-8fde-2d1c9e9d5361",
   "metadata": {},
   "source": [
    "# reshape()"
   ]
  },
  {
   "cell_type": "code",
   "execution_count": 11,
   "id": "1ce43967-4742-4008-9bfb-75ac403e7511",
   "metadata": {},
   "outputs": [
    {
     "name": "stdout",
     "output_type": "stream",
     "text": [
      "[13  6 29 28 14 31 45 15 35 21 23 15]\n",
      "\n",
      "[[13  6]\n",
      " [29 28]\n",
      " [14 31]\n",
      " [45 15]\n",
      " [35 21]\n",
      " [23 15]]\n",
      "\n",
      "[[13  6 29]\n",
      " [28 14 31]\n",
      " [45 15 35]\n",
      " [21 23 15]]\n",
      "\n"
     ]
    }
   ],
   "source": [
    "arr1 = np.random.randint(1,50,12)\n",
    "print(arr1, end=\"\\n\\n\")\n",
    "print(arr1.reshape(6,2), end=\"\\n\\n\") # 6*2 = 12\n",
    "print(arr1.reshape(4,3), end=\"\\n\\n\") # 4*3 = 12"
   ]
  },
  {
   "cell_type": "markdown",
   "id": "b4b8c3d1-eaf1-42c4-849a-d10f44724849",
   "metadata": {},
   "source": [
    "# flatten()"
   ]
  },
  {
   "cell_type": "code",
   "execution_count": 12,
   "id": "6dccd25f-65f0-4ae5-a3b6-72ca920be32e",
   "metadata": {},
   "outputs": [
    {
     "name": "stdout",
     "output_type": "stream",
     "text": [
      "[[1. 0. 0.]\n",
      " [0. 1. 0.]\n",
      " [0. 0. 1.]]\n",
      "\n",
      "[1. 0. 0. 0. 1. 0. 0. 0. 1.]\n"
     ]
    }
   ],
   "source": [
    "arr1 = np.eye(3)\n",
    "print(arr1, end=\"\\n\\n\")\n",
    "print(arr1.flatten())"
   ]
  },
  {
   "cell_type": "code",
   "execution_count": 13,
   "id": "901ef1f4-6ec3-4029-b0d1-933c9cf9d028",
   "metadata": {},
   "outputs": [
    {
     "name": "stdout",
     "output_type": "stream",
     "text": [
      "[4 4 4 4 4 4]\n"
     ]
    }
   ],
   "source": [
    "arr2 = np.full((2,3),4)\n",
    "print(arr2.flatten())"
   ]
  },
  {
   "cell_type": "markdown",
   "id": "85ec5b7c-51be-4661-b73c-8068dac5ea32",
   "metadata": {},
   "source": [
    "# concatenate()"
   ]
  },
  {
   "cell_type": "code",
   "execution_count": 14,
   "id": "758fe80f-bc51-434d-b2b5-1285e8da999e",
   "metadata": {},
   "outputs": [
    {
     "name": "stdout",
     "output_type": "stream",
     "text": [
      "[1 2 3 4 5]\n",
      "[ 6  7  8  9 10]\n"
     ]
    },
    {
     "data": {
      "text/plain": [
       "array([ 1,  2,  3,  4,  5,  6,  7,  8,  9, 10])"
      ]
     },
     "execution_count": 14,
     "metadata": {},
     "output_type": "execute_result"
    }
   ],
   "source": [
    "arr1 = np.arange(1,6)\n",
    "arr2 = np.arange(6,11)\n",
    "print(arr1)\n",
    "print(arr2)\n",
    "np.concatenate((arr1, arr2))"
   ]
  },
  {
   "cell_type": "markdown",
   "id": "8ccd9555-d37b-4231-b447-b9fdb8fdc3e6",
   "metadata": {},
   "source": [
    "# split()"
   ]
  },
  {
   "cell_type": "code",
   "execution_count": 21,
   "id": "6e189000-d6fe-420b-84bf-2729255f2fa5",
   "metadata": {},
   "outputs": [
    {
     "data": {
      "text/plain": [
       "[array([1, 2]), array([3, 4]), array([5, 6])]"
      ]
     },
     "execution_count": 21,
     "metadata": {},
     "output_type": "execute_result"
    }
   ],
   "source": [
    "arr1 = np.arange(1,7)\n",
    "np.split(arr1, 3)\n",
    "\"\"\"np.split(arr1, 4) throws error. \n",
    "Splitted sections should be such that each array \n",
    "should have equal number of elements.\"\"\""
   ]
  },
  {
   "cell_type": "markdown",
   "id": "441d81ba-d255-41cf-a84c-a1bc4f50b107",
   "metadata": {},
   "source": [
    "# max() argmax() & min() and argmin()"
   ]
  },
  {
   "cell_type": "code",
   "execution_count": 32,
   "id": "92305da6-c3d3-41ed-a8af-4176a4731396",
   "metadata": {},
   "outputs": [
    {
     "name": "stdout",
     "output_type": "stream",
     "text": [
      "[48 27 21 28 45  1 29 19 20 43 31 28  8 24 14 44 18  4  5 48]\n",
      "\n",
      "Maximum number in the array = 48\n",
      "Index position of max num (48) is 0\n",
      "\n",
      "Minimum number in the array = 1\n",
      "Index position of min num (1) is 5\n"
     ]
    }
   ],
   "source": [
    "arr1 = np.random.randint(1,50,20)\n",
    "print(arr1,  end=\"\\n\\n\")\n",
    "\n",
    "print(f\"Maximum number in the array = {arr1.max()}\")\n",
    "print(f\"Index position of max num ({arr1.max()}) is {arr1.argmax()}\")\n",
    "print()\n",
    "print(f\"Minimum number in the array = {arr1.min()}\")\n",
    "print(f\"Index position of min num ({arr1.min()}) is {arr1.argmin()}\")"
   ]
  },
  {
   "cell_type": "markdown",
   "id": "4209e28c-1729-4910-b127-52897ad5c899",
   "metadata": {},
   "source": [
    "# sum() & mean()"
   ]
  },
  {
   "cell_type": "code",
   "execution_count": 35,
   "id": "4c8c2952-74f4-40cc-81a2-22a9d4ab02b2",
   "metadata": {},
   "outputs": [
    {
     "name": "stdout",
     "output_type": "stream",
     "text": [
      "Sum = 15\n",
      "Mean = 3.0\n"
     ]
    }
   ],
   "source": [
    "arr1 = np.array([1, 2, 3, 4, 5]) # np.arange(1,6)\n",
    "print(f\"Sum = {arr1.sum()}\") # 1+2+3+4+5 = 15\n",
    "print(f\"Mean = {arr1.mean()}\") # sum/size = 15/5 = 3.0"
   ]
  },
  {
   "cell_type": "code",
   "execution_count": null,
   "id": "7db1b707-7615-4a23-9a99-25d203a039f1",
   "metadata": {},
   "outputs": [],
   "source": []
  }
 ],
 "metadata": {
  "kernelspec": {
   "display_name": "Python 3 (ipykernel)",
   "language": "python",
   "name": "python3"
  },
  "language_info": {
   "codemirror_mode": {
    "name": "ipython",
    "version": 3
   },
   "file_extension": ".py",
   "mimetype": "text/x-python",
   "name": "python",
   "nbconvert_exporter": "python",
   "pygments_lexer": "ipython3",
   "version": "3.12.9"
  }
 },
 "nbformat": 4,
 "nbformat_minor": 5
}
