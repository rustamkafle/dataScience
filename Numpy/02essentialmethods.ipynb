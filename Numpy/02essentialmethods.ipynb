{
 "cells": [
  {
   "cell_type": "code",
   "execution_count": 1,
   "id": "c5cc194b-6c4d-494b-9c32-ba0d062319e1",
   "metadata": {},
   "outputs": [],
   "source": [
    "import numpy as np"
   ]
  },
  {
   "cell_type": "markdown",
   "id": "df425538-9063-4f6f-be86-cdaa29e3c3f4",
   "metadata": {},
   "source": [
    "# Arange()"
   ]
  },
  {
   "cell_type": "code",
   "execution_count": 2,
   "id": "7fce0792-3feb-4828-9361-590c8ca640af",
   "metadata": {},
   "outputs": [
    {
     "name": "stdout",
     "output_type": "stream",
     "text": [
      "[1 2 3 4 5]\n"
     ]
    }
   ],
   "source": [
    "arr1 = np.arange(1,6)\n",
    "print(arr1)"
   ]
  },
  {
   "cell_type": "code",
   "execution_count": 3,
   "id": "cd59c092-58c3-4332-a342-4920a825ce9b",
   "metadata": {},
   "outputs": [
    {
     "name": "stdout",
     "output_type": "stream",
     "text": [
      "[1 3 5 7 9]\n"
     ]
    }
   ],
   "source": [
    "arr2 = np.arange(1,10,2) # np.arange(start, stop, step)\n",
    "print(arr2)"
   ]
  },
  {
   "cell_type": "code",
   "execution_count": 4,
   "id": "743e3f3f-5d06-4b0c-bf80-50bcfafeeaae",
   "metadata": {},
   "outputs": [
    {
     "name": "stdout",
     "output_type": "stream",
     "text": [
      "[10  8  6  4  2]\n"
     ]
    }
   ],
   "source": [
    "arr3 = np.arange(10,0,-2)\n",
    "print(arr3)"
   ]
  },
  {
   "cell_type": "markdown",
   "id": "fef6347b-5b33-4d93-9417-1c5d1754661d",
   "metadata": {},
   "source": [
    "# Zeros(), Ones() and Full()"
   ]
  },
  {
   "cell_type": "code",
   "execution_count": 5,
   "id": "d9cd2299-d88c-4280-a1e8-7c71b8aad5a4",
   "metadata": {},
   "outputs": [
    {
     "name": "stdout",
     "output_type": "stream",
     "text": [
      "[0. 0. 0. 0.]\n",
      "\n",
      "[[0. 0. 0.]\n",
      " [0. 0. 0.]]\n"
     ]
    }
   ],
   "source": [
    "z1 = np.zeros(4) # 1-d array\n",
    "z2 = np.zeros((2,3)) # 2d array (2-row 3-column)\n",
    "print(z1, end=\"\\n\\n\")\n",
    "print(z2)"
   ]
  },
  {
   "cell_type": "code",
   "execution_count": 6,
   "id": "7ee40729-ec2c-459b-96ba-f30568b94e2e",
   "metadata": {},
   "outputs": [
    {
     "name": "stdout",
     "output_type": "stream",
     "text": [
      "[1. 1. 1. 1. 1. 1.]\n",
      "\n",
      "[[1. 1. 1. 1. 1.]\n",
      " [1. 1. 1. 1. 1.]\n",
      " [1. 1. 1. 1. 1.]\n",
      " [1. 1. 1. 1. 1.]\n",
      " [1. 1. 1. 1. 1.]]\n"
     ]
    }
   ],
   "source": [
    "o1 = np.ones(6) # 1d array\n",
    "print(o1, end='\\n\\n')\n",
    "o2 = np.ones((5,5)) # 2d array (5-row 5-column)\n",
    "\n",
    "print(o2)"
   ]
  },
  {
   "cell_type": "code",
   "execution_count": 7,
   "id": "6116cab5-cac0-49b6-8a75-d342cf00ac8c",
   "metadata": {},
   "outputs": [
    {
     "name": "stdout",
     "output_type": "stream",
     "text": [
      "[2 2 2 2 2]\n",
      "\n",
      "[[7 7 7]\n",
      " [7 7 7]\n",
      " [7 7 7]\n",
      " [7 7 7]]\n"
     ]
    }
   ],
   "source": [
    "f1 = np.full(5,2) # 1d array\n",
    "print(f1)\n",
    "print()\n",
    "print(np.full((4,3),7)) # 2d array (4-row 3-column)"
   ]
  },
  {
   "cell_type": "markdown",
   "id": "628bde38-958a-4642-95c2-2bf4267672b5",
   "metadata": {},
   "source": [
    "# random.randint()"
   ]
  },
  {
   "cell_type": "code",
   "execution_count": 8,
   "id": "bdc9c785-4f1f-4a6e-b624-1246581b6e35",
   "metadata": {},
   "outputs": [
    {
     "name": "stdout",
     "output_type": "stream",
     "text": [
      "[3 8 3 5]\n"
     ]
    }
   ],
   "source": [
    "r1 = np.random.randint(2,10,4) \n",
    "    #np.random.randint(start, end, number_of_values)\n",
    "print(r1)"
   ]
  },
  {
   "cell_type": "code",
   "execution_count": 9,
   "id": "e00b18c0-788a-4ae0-a583-375052b678e5",
   "metadata": {},
   "outputs": [
    {
     "name": "stdout",
     "output_type": "stream",
     "text": [
      "[ 6 32 48 23 24 33 40 46 30 48]\n"
     ]
    }
   ],
   "source": [
    "r2 = np.random.randint(5,50,10)\n",
    "print(r2)"
   ]
  },
  {
   "cell_type": "markdown",
   "id": "88c86a34-91b0-4d3d-af75-04f205d3c288",
   "metadata": {},
   "source": [
    "# eye()"
   ]
  },
  {
   "cell_type": "code",
   "execution_count": 10,
   "id": "b1cecafe-1f61-489e-841b-422be4d051d5",
   "metadata": {},
   "outputs": [
    {
     "name": "stdout",
     "output_type": "stream",
     "text": [
      "[[1. 0.]\n",
      " [0. 1.]]\n"
     ]
    }
   ],
   "source": [
    "# creating 2x2 identity matrix\n",
    "identity_matrix1 = np.eye(2)\n",
    "print(identity_matrix1)"
   ]
  },
  {
   "cell_type": "code",
   "execution_count": 12,
   "id": "28731d98-da45-4698-ae63-f3daa0e6205b",
   "metadata": {},
   "outputs": [
    {
     "name": "stdout",
     "output_type": "stream",
     "text": [
      "[[1. 0. 0. 0. 0.]\n",
      " [0. 1. 0. 0. 0.]\n",
      " [0. 0. 1. 0. 0.]\n",
      " [0. 0. 0. 1. 0.]\n",
      " [0. 0. 0. 0. 1.]]\n"
     ]
    }
   ],
   "source": [
    "# creating 5x5 identity matrix\n",
    "identity_matrix2 = np.eye(5)\n",
    "print(identity_matrix2)"
   ]
  },
  {
   "cell_type": "markdown",
   "id": "e7a98b49-c1ee-4f63-8545-63c1655c8cf1",
   "metadata": {},
   "source": [
    "# linspace()"
   ]
  },
  {
   "cell_type": "code",
   "execution_count": 15,
   "id": "1c4c0d05-2984-47d9-8497-7ba4478d2b44",
   "metadata": {},
   "outputs": [
    {
     "name": "stdout",
     "output_type": "stream",
     "text": [
      "[ 0.   2.5  5.   7.5 10. ]\n"
     ]
    }
   ],
   "source": [
    "linear_space = np.linspace(0,10,5)\n",
    "print(linear_space)"
   ]
  },
  {
   "cell_type": "code",
   "execution_count": 27,
   "id": "da5632b6-da4a-4d24-b9a9-ea2016f95767",
   "metadata": {},
   "outputs": [
    {
     "data": {
      "text/plain": [
       "array([ 10.,  20.,  30.,  40.,  50.,  60.,  70.,  80.,  90., 100.])"
      ]
     },
     "execution_count": 27,
     "metadata": {},
     "output_type": "execute_result"
    }
   ],
   "source": [
    "l2 = np.linspace(10, 100, 10)\n",
    "l2"
   ]
  },
  {
   "cell_type": "code",
   "execution_count": null,
   "id": "ede94b25-54f6-48c5-8944-d8fea245dc0d",
   "metadata": {},
   "outputs": [],
   "source": []
  }
 ],
 "metadata": {
  "kernelspec": {
   "display_name": "Python 3 (ipykernel)",
   "language": "python",
   "name": "python3"
  },
  "language_info": {
   "codemirror_mode": {
    "name": "ipython",
    "version": 3
   },
   "file_extension": ".py",
   "mimetype": "text/x-python",
   "name": "python",
   "nbconvert_exporter": "python",
   "pygments_lexer": "ipython3",
   "version": "3.12.9"
  }
 },
 "nbformat": 4,
 "nbformat_minor": 5
}
