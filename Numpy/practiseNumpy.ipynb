{
 "cells": [
  {
   "cell_type": "markdown",
   "id": "1fda5026-7b8a-4fff-bbca-05e850e35cd9",
   "metadata": {},
   "source": [
    "## Problem 1: Array Creation\n",
    "1. Create a 1D NumPy array with values ranging from 1 to 10.\n",
    "2. Create a 2D NumPy array filled with zeros of shape (3, 4).\n",
    "3. Create a 2D array with random integers between 0 and 50 of shape (4, 5).\n"
   ]
  },
  {
   "cell_type": "code",
   "execution_count": 63,
   "id": "ced802c3-204d-4119-8962-088ce9792026",
   "metadata": {},
   "outputs": [
    {
     "name": "stdout",
     "output_type": "stream",
     "text": [
      "[ 1  2  3  4  5  6  7  8  9 10]\n",
      "[[0. 0. 0. 0.]\n",
      " [0. 0. 0. 0.]\n",
      " [0. 0. 0. 0.]]\n",
      "[[38  1  1 47 48]\n",
      " [46 48 25 14 23]\n",
      " [30 29 44 37 44]\n",
      " [36 20 30 17  2]]\n"
     ]
    }
   ],
   "source": [
    "import numpy as np\n",
    "\n",
    "print(np.arange(1, 11)) # Q.No.1\n",
    "\n",
    "print(np.zeros((3,4))) # # Q.No.2\n",
    "\n",
    "print(np.random.randint(0, 50,20).reshape(4,5)) # Q.No.3"
   ]
  },
  {
   "cell_type": "markdown",
   "id": "969c5060-109f-4733-b275-91f45ee67038",
   "metadata": {},
   "source": [
    "## Problem 2\n",
    "You are given the following array:\n",
    "```python\n",
    "import numpy as np\n",
    "arr = np.array([10, 20, 30, 40, 50, 60, 70])\n",
    "```\n",
    "Your tasks are:\n",
    "1. Retrieve the first 3 elements.\n",
    "2. Retrieve the last 2 elements.\n",
    "3. Retrieve every second element from the array.\n"
   ]
  },
  {
   "cell_type": "code",
   "execution_count": 68,
   "id": "742916ef-b26d-4a8d-a3b6-5701431c41d9",
   "metadata": {},
   "outputs": [
    {
     "name": "stdout",
     "output_type": "stream",
     "text": [
      "[10 20 30]\n",
      "[60 70]\n",
      "[10 30 50 70]\n"
     ]
    }
   ],
   "source": [
    "import numpy as np\n",
    "arr = np.array([10, 20, 30, 40, 50, 60, 70])\n",
    "\n",
    "print(arr[:3])\n",
    "\n",
    "print(arr[-2:])\n",
    "\n",
    "print(arr[::2])"
   ]
  },
  {
   "cell_type": "markdown",
   "id": "bd19af88-1f7e-46e8-bbcb-15ac33d9b995",
   "metadata": {},
   "source": [
    "## Problem 3: Basic Array Operations\n",
    "You are given the following arrays:\n",
    "```python\n",
    "arr1 = np.array([1, 2, 3, 4])\n",
    "arr2 = np.array([5, 6, 7, 8])\n",
    "```\n",
    "Your tasks are:\n",
    "1. Add the two arrays.\n",
    "2. Multiply the two arrays element-wise.\n",
    "3. Compute the dot product of the two arrays.\n"
   ]
  },
  {
   "cell_type": "code",
   "execution_count": 76,
   "id": "ddde29c2-4ff9-410e-8514-0a2e7ed6e64a",
   "metadata": {},
   "outputs": [
    {
     "name": "stdout",
     "output_type": "stream",
     "text": [
      "[ 6  8 10 12]\n",
      "[ 5 12 21 32]\n",
      "70\n"
     ]
    }
   ],
   "source": [
    "import numpy as np\n",
    "arr1 = np.arange(1,5)\n",
    "arr2 = np.arange(5,9)\n",
    "\n",
    "print(arr1+arr2)\n",
    "print(arr1*arr2)\n",
    "print(arr1.dot(arr2))"
   ]
  },
  {
   "cell_type": "markdown",
   "id": "7f2a9a12-3ae1-4186-a541-1623604dbbae",
   "metadata": {},
   "source": [
    "## Problem 4: Reshaping Arrays\n",
    "You are given a 1D array:\n",
    "```python\n",
    "arr = np.arange(1, 13)  # Array with values from 1 to 12\n",
    "```\n",
    "Your tasks are:\n",
    "1. Reshape the array into a 2D array of shape (3, 4).\n",
    "2. Reshape the array into a 3D array of shape (2, 2, 3).\n"
   ]
  },
  {
   "cell_type": "code",
   "execution_count": 80,
   "id": "1d145919-ca6e-4e59-be52-770822227920",
   "metadata": {},
   "outputs": [
    {
     "name": "stdout",
     "output_type": "stream",
     "text": [
      "[[ 1  2  3  4]\n",
      " [ 5  6  7  8]\n",
      " [ 9 10 11 12]]\n",
      "[[[ 1  2  3]\n",
      "  [ 4  5  6]]\n",
      "\n",
      " [[ 7  8  9]\n",
      "  [10 11 12]]]\n"
     ]
    }
   ],
   "source": [
    "import numpy as np\n",
    "arr = np.arange(1,13)\n",
    "print(arr.reshape(3,4))\n",
    "print(arr.reshape(2,2,3))"
   ]
  },
  {
   "cell_type": "markdown",
   "id": "0e78e910-7a31-4dee-8a41-8d7c799813a7",
   "metadata": {},
   "source": [
    "## Problem 5: Statistical Functions\n",
    "You are given the following array:\n",
    "```python\n",
    "data = np.array([10, 20, 30, 40, 50])\n",
    "```\n",
    "Your tasks are:\n",
    "1. Compute the mean of the array.\n",
    "2. Compute the sum of the array.\n",
    "3. Find the maximum and minimum values in the array.\n"
   ]
  },
  {
   "cell_type": "code",
   "execution_count": 91,
   "id": "244c1409-e51d-44e7-89e4-f5d902a4a66b",
   "metadata": {},
   "outputs": [
    {
     "name": "stdout",
     "output_type": "stream",
     "text": [
      "[10 20 30 40 50]\n",
      "Mean = 30.0\n",
      "Sum = 150\n",
      "Max = 50\n",
      "Min = 10\n"
     ]
    }
   ],
   "source": [
    "import numpy as np\n",
    "data = (np.linspace(10,50,5)).astype('int32')\n",
    "print(data)\n",
    "print(f\"Mean = {np.mean(data)}\")\n",
    "print(f\"Sum = {np.sum(data)}\")\n",
    "print(f\"Max = {np.max(data)}\")\n",
    "print(f\"Min = {np.min(data)}\")"
   ]
  },
  {
   "cell_type": "markdown",
   "id": "e3a20ee5-2668-4410-bb0a-3c057f302978",
   "metadata": {},
   "source": [
    "## Problem 6: Boolean Masking\n",
    "You are given the following array:\n",
    "```python\n",
    "arr = np.array([5, 15, 25, 35, 45, 55])\n",
    "```\n",
    "Your tasks are:\n",
    "1. Create a boolean mask for values greater than 30.\n",
    "2. Use the mask to extract the values greater than 30.\n"
   ]
  },
  {
   "cell_type": "code",
   "execution_count": 100,
   "id": "021d4f42-b29d-405e-836f-28431d39b1b3",
   "metadata": {},
   "outputs": [
    {
     "name": "stdout",
     "output_type": "stream",
     "text": [
      "[ 5 15 25 35 45 55]\n",
      "[False False False  True  True  True]\n",
      "[35 45 55]\n"
     ]
    }
   ],
   "source": [
    "import numpy as np\n",
    "arr = np.arange(5,56, 10)\n",
    "print(arr)\n",
    "mask = arr>30\n",
    "print(mask) # boolean mask\n",
    "print(arr[mask]) # extracting elements using boolean mask"
   ]
  },
  {
   "cell_type": "markdown",
   "id": "73987bf4-8469-4ae9-8fc6-a57cc80f8c9b",
   "metadata": {},
   "source": [
    "## Problem 7: Broadcasting\n",
    "You are given the following array:\n",
    "```python\n",
    "arr = np.array([10, 20, 30, 40])\n",
    "```\n",
    "Your tasks are:\n",
    "1. Add 5 to each element of the array using broadcasting.\n",
    "2. Multiply each element of the array by 2 using broadcasting.\n"
   ]
  },
  {
   "cell_type": "markdown",
   "id": "a9dcb8b5-b1fe-4dd3-99ef-5f27ffb23b03",
   "metadata": {},
   "source": [
    "import numpy as np\n",
    "arr = np.arange(10,41,10)\n",
    "print(arr)\n",
    "print(arr+5)\n",
    "print(arr*2)"
   ]
  },
  {
   "cell_type": "markdown",
   "id": "0ea76f27-5fd7-4834-8406-e04d4e90d280",
   "metadata": {},
   "source": [
    "## Problem 8: Matrix Operations\n",
    "You are given the following 2D arrays:\n",
    "```python\n",
    "matrix1 = np.array([[1, 2], [3, 4]])\n",
    "matrix2 = np.array([[5, 6], [7, 8]])\n",
    "```\n",
    "Your tasks are:\n",
    "1. Compute the element-wise sum of the two matrices.\n",
    "2. Compute the matrix product of `matrix1` and `matrix2`.\n"
   ]
  },
  {
   "cell_type": "code",
   "execution_count": 113,
   "id": "41814336-4661-46b2-8769-1739cb2822b2",
   "metadata": {},
   "outputs": [
    {
     "name": "stdout",
     "output_type": "stream",
     "text": [
      "[[ 6  8]\n",
      " [10 12]]\n",
      "[[19 22]\n",
      " [43 50]]\n"
     ]
    }
   ],
   "source": [
    "import numpy as np\n",
    "matrix1 = np.arange(1,5).reshape(2,2)\n",
    "matrix2 = np.arange(5,9).reshape(2,2)\n",
    "print(matrix1 + matrix2)\n",
    "print(np.matmul(matrix1, matrix2))"
   ]
  },
  {
   "cell_type": "markdown",
   "id": "f7d7f00c-1be4-4041-a1a6-09934f36e76c",
   "metadata": {},
   "source": [
    "\n",
    "## Problem 9: Creating Special Arrays\n",
    "1. Create an identity matrix of size 4x4.\n",
    "2. Create a diagonal matrix with the diagonal values [10, 20, 30, 40].\n"
   ]
  },
  {
   "cell_type": "code",
   "execution_count": 117,
   "id": "c2734686-bc41-418d-b2c9-1108d9b10b5a",
   "metadata": {},
   "outputs": [
    {
     "name": "stdout",
     "output_type": "stream",
     "text": [
      "[[1. 0. 0. 0.]\n",
      " [0. 1. 0. 0.]\n",
      " [0. 0. 1. 0.]\n",
      " [0. 0. 0. 1.]]\n",
      "[[10  0  0  0]\n",
      " [ 0 20  0  0]\n",
      " [ 0  0 30  0]\n",
      " [ 0  0  0 40]]\n"
     ]
    }
   ],
   "source": [
    "import numpy as np\n",
    "\n",
    "print(np.eye(4,4))\n",
    "\n",
    "print(np.diag((np.linspace(10,40,4)).astype('int32')))"
   ]
  },
  {
   "cell_type": "markdown",
   "id": "db75625f-9987-41f6-9d5a-d6912d4751d0",
   "metadata": {},
   "source": [
    "\n",
    "## Problem 10: Save and Load Arrays\n",
    "1. Save the following array to a file using `np.save`:\n",
    "    ```python\n",
    "    arr = np.array([1, 2, 3, 4, 5])\n",
    "    ```\n",
    "2. Load the saved array back and print its contents.\n"
   ]
  },
  {
   "cell_type": "code",
   "execution_count": 122,
   "id": "2c47122c-2a40-4d79-8e6b-e5e0c761d24b",
   "metadata": {},
   "outputs": [],
   "source": [
    "import numpy as np\n",
    "arr = np.arange(1,6)\n",
    "np.save('test', arr)"
   ]
  },
  {
   "cell_type": "code",
   "execution_count": 124,
   "id": "b9531a1a-3c2c-4907-a141-783a5a1f546e",
   "metadata": {},
   "outputs": [
    {
     "name": "stdout",
     "output_type": "stream",
     "text": [
      "[1 2 3 4 5]\n"
     ]
    }
   ],
   "source": [
    "data = np.load('test.npy')\n",
    "print(data)"
   ]
  },
  {
   "cell_type": "code",
   "execution_count": null,
   "id": "f29f0b78-7e43-4e43-9df4-7f057eab12d0",
   "metadata": {},
   "outputs": [],
   "source": []
  }
 ],
 "metadata": {
  "kernelspec": {
   "display_name": "Python 3 (ipykernel)",
   "language": "python",
   "name": "python3"
  },
  "language_info": {
   "codemirror_mode": {
    "name": "ipython",
    "version": 3
   },
   "file_extension": ".py",
   "mimetype": "text/x-python",
   "name": "python",
   "nbconvert_exporter": "python",
   "pygments_lexer": "ipython3",
   "version": "3.12.9"
  }
 },
 "nbformat": 4,
 "nbformat_minor": 5
}
